{
 "cells": [
  {
   "cell_type": "markdown",
   "id": "bc068c14",
   "metadata": {},
   "source": [
    "# Online Retail Data Cleaning\n"
   ]
  },
  {
   "cell_type": "markdown",
   "id": "3ae151d4",
   "metadata": {},
   "source": [
    "### Import necessary libraries"
   ]
  },
  {
   "cell_type": "code",
   "execution_count": null,
   "id": "ba507cff",
   "metadata": {},
   "outputs": [],
   "source": [
    "import pandas as pd\n",
    "import numpy as np"
   ]
  },
  {
   "cell_type": "markdown",
   "id": "d0831cea",
   "metadata": {},
   "source": [
    "### Open Online Retail file\n"
   ]
  },
  {
   "cell_type": "markdown",
   "id": "2fd4e59c",
   "metadata": {},
   "source": [
    "pd.read_excel('Online retail.xlsx', index_col=0)"
   ]
  },
  {
   "cell_type": "code",
   "execution_count": 8,
   "id": "712b89a2",
   "metadata": {},
   "outputs": [],
   "source": [
    "tata=pd.read_excel('Online retail.xlsx', index_col=0)"
   ]
  },
  {
   "cell_type": "markdown",
   "id": "d65f06d5",
   "metadata": {},
   "source": [
    "### Table info"
   ]
  },
  {
   "cell_type": "code",
   "execution_count": 10,
   "id": "1f6fe3c9",
   "metadata": {},
   "outputs": [
    {
     "name": "stdout",
     "output_type": "stream",
     "text": [
      "<class 'pandas.core.frame.DataFrame'>\n",
      "Index: 541909 entries, 536365 to 581587\n",
      "Data columns (total 7 columns):\n",
      " #   Column       Non-Null Count   Dtype         \n",
      "---  ------       --------------   -----         \n",
      " 0   StockCode    541909 non-null  object        \n",
      " 1   Description  540455 non-null  object        \n",
      " 2   Quantity     541909 non-null  int64         \n",
      " 3   InvoiceDate  541909 non-null  datetime64[ns]\n",
      " 4   UnitPrice    541909 non-null  float64       \n",
      " 5   CustomerID   406829 non-null  float64       \n",
      " 6   Country      541909 non-null  object        \n",
      "dtypes: datetime64[ns](1), float64(2), int64(1), object(3)\n",
      "memory usage: 33.1+ MB\n"
     ]
    }
   ],
   "source": [
    "tata.info()"
   ]
  },
  {
   "cell_type": "markdown",
   "id": "2e276419",
   "metadata": {},
   "source": [
    "### Check for null values\n"
   ]
  },
  {
   "cell_type": "code",
   "execution_count": 11,
   "id": "32629237",
   "metadata": {},
   "outputs": [
    {
     "data": {
      "text/plain": [
       "StockCode           0\n",
       "Description      1454\n",
       "Quantity            0\n",
       "InvoiceDate         0\n",
       "UnitPrice           0\n",
       "CustomerID     135080\n",
       "Country             0\n",
       "dtype: int64"
      ]
     },
     "execution_count": 11,
     "metadata": {},
     "output_type": "execute_result"
    }
   ],
   "source": [
    "tata.isnull().sum()"
   ]
  },
  {
   "cell_type": "markdown",
   "id": "383274f8",
   "metadata": {},
   "source": [
    "### Drop null values: \n",
    "The CustomerId is a unique ID and can not be empty and Description also can not be empty"
   ]
  },
  {
   "cell_type": "code",
   "execution_count": 13,
   "id": "81fbe777",
   "metadata": {},
   "outputs": [],
   "source": [
    "tata = tata.dropna(subset=['Description', 'CustomerID'])"
   ]
  },
  {
   "cell_type": "code",
   "execution_count": 29,
   "id": "621dd374",
   "metadata": {},
   "outputs": [
    {
     "data": {
      "text/plain": [
       "StockCode        0\n",
       "Description      0\n",
       "Quantity         0\n",
       "InvoiceDate      0\n",
       "UnitPrice        0\n",
       "CustomerID       0\n",
       "Country          0\n",
       "year             0\n",
       "month            0\n",
       "Total Revenue    0\n",
       "dtype: int64"
      ]
     },
     "execution_count": 29,
     "metadata": {},
     "output_type": "execute_result"
    }
   ],
   "source": [
    "tata.isnull().sum()"
   ]
  },
  {
   "cell_type": "code",
   "execution_count": 16,
   "id": "55befab6",
   "metadata": {},
   "outputs": [
    {
     "name": "stdout",
     "output_type": "stream",
     "text": [
      "<class 'pandas.core.frame.DataFrame'>\n",
      "Index: 406829 entries, 536365 to 581587\n",
      "Data columns (total 7 columns):\n",
      " #   Column       Non-Null Count   Dtype         \n",
      "---  ------       --------------   -----         \n",
      " 0   StockCode    406829 non-null  object        \n",
      " 1   Description  406829 non-null  object        \n",
      " 2   Quantity     406829 non-null  int64         \n",
      " 3   InvoiceDate  406829 non-null  datetime64[ns]\n",
      " 4   UnitPrice    406829 non-null  float64       \n",
      " 5   CustomerID   406829 non-null  float64       \n",
      " 6   Country      406829 non-null  object        \n",
      "dtypes: datetime64[ns](1), float64(2), int64(1), object(3)\n",
      "memory usage: 24.8+ MB\n"
     ]
    }
   ],
   "source": [
    "tata.info()"
   ]
  },
  {
   "cell_type": "markdown",
   "id": "5913761c",
   "metadata": {},
   "source": [
    "### Change the data type of CustomerID from float to string"
   ]
  },
  {
   "cell_type": "code",
   "execution_count": 17,
   "id": "fd213282",
   "metadata": {},
   "outputs": [],
   "source": [
    "tata['CustomerID'] = tata['CustomerID'].astype(str)"
   ]
  },
  {
   "cell_type": "code",
   "execution_count": 18,
   "id": "633fd487",
   "metadata": {},
   "outputs": [
    {
     "name": "stdout",
     "output_type": "stream",
     "text": [
      "<class 'pandas.core.frame.DataFrame'>\n",
      "Index: 406829 entries, 536365 to 581587\n",
      "Data columns (total 7 columns):\n",
      " #   Column       Non-Null Count   Dtype         \n",
      "---  ------       --------------   -----         \n",
      " 0   StockCode    406829 non-null  object        \n",
      " 1   Description  406829 non-null  object        \n",
      " 2   Quantity     406829 non-null  int64         \n",
      " 3   InvoiceDate  406829 non-null  datetime64[ns]\n",
      " 4   UnitPrice    406829 non-null  float64       \n",
      " 5   CustomerID   406829 non-null  object        \n",
      " 6   Country      406829 non-null  object        \n",
      "dtypes: datetime64[ns](1), float64(1), int64(1), object(4)\n",
      "memory usage: 24.8+ MB\n"
     ]
    }
   ],
   "source": [
    "tata.info()"
   ]
  },
  {
   "cell_type": "markdown",
   "id": "2ffffc8e",
   "metadata": {},
   "source": [
    "### Create new column Year, Month and Total Revenue\n"
   ]
  },
  {
   "cell_type": "code",
   "execution_count": 22,
   "id": "1a48477d",
   "metadata": {},
   "outputs": [],
   "source": [
    "tata['year'] = pd.DatetimeIndex(tata['InvoiceDate']).year\n",
    "tata['month'] = pd.DatetimeIndex(tata['InvoiceDate']).month"
   ]
  },
  {
   "cell_type": "code",
   "execution_count": 28,
   "id": "584fca15",
   "metadata": {
    "scrolled": true
   },
   "outputs": [
    {
     "data": {
      "text/html": [
       "<div>\n",
       "<style scoped>\n",
       "    .dataframe tbody tr th:only-of-type {\n",
       "        vertical-align: middle;\n",
       "    }\n",
       "\n",
       "    .dataframe tbody tr th {\n",
       "        vertical-align: top;\n",
       "    }\n",
       "\n",
       "    .dataframe thead th {\n",
       "        text-align: right;\n",
       "    }\n",
       "</style>\n",
       "<table border=\"1\" class=\"dataframe\">\n",
       "  <thead>\n",
       "    <tr style=\"text-align: right;\">\n",
       "      <th></th>\n",
       "      <th>StockCode</th>\n",
       "      <th>Description</th>\n",
       "      <th>Quantity</th>\n",
       "      <th>InvoiceDate</th>\n",
       "      <th>UnitPrice</th>\n",
       "      <th>CustomerID</th>\n",
       "      <th>Country</th>\n",
       "      <th>year</th>\n",
       "      <th>month</th>\n",
       "      <th>Total Revenue</th>\n",
       "    </tr>\n",
       "    <tr>\n",
       "      <th>InvoiceNo</th>\n",
       "      <th></th>\n",
       "      <th></th>\n",
       "      <th></th>\n",
       "      <th></th>\n",
       "      <th></th>\n",
       "      <th></th>\n",
       "      <th></th>\n",
       "      <th></th>\n",
       "      <th></th>\n",
       "      <th></th>\n",
       "    </tr>\n",
       "  </thead>\n",
       "  <tbody>\n",
       "    <tr>\n",
       "      <th>536365</th>\n",
       "      <td>85123A</td>\n",
       "      <td>WHITE HANGING HEART T-LIGHT HOLDER</td>\n",
       "      <td>6</td>\n",
       "      <td>2010-12-01 08:26:00</td>\n",
       "      <td>2.55</td>\n",
       "      <td>17850.0</td>\n",
       "      <td>United Kingdom</td>\n",
       "      <td>2010</td>\n",
       "      <td>12</td>\n",
       "      <td>15.30</td>\n",
       "    </tr>\n",
       "    <tr>\n",
       "      <th>536365</th>\n",
       "      <td>71053</td>\n",
       "      <td>WHITE METAL LANTERN</td>\n",
       "      <td>6</td>\n",
       "      <td>2010-12-01 08:26:00</td>\n",
       "      <td>3.39</td>\n",
       "      <td>17850.0</td>\n",
       "      <td>United Kingdom</td>\n",
       "      <td>2010</td>\n",
       "      <td>12</td>\n",
       "      <td>20.34</td>\n",
       "    </tr>\n",
       "    <tr>\n",
       "      <th>536365</th>\n",
       "      <td>84406B</td>\n",
       "      <td>CREAM CUPID HEARTS COAT HANGER</td>\n",
       "      <td>8</td>\n",
       "      <td>2010-12-01 08:26:00</td>\n",
       "      <td>2.75</td>\n",
       "      <td>17850.0</td>\n",
       "      <td>United Kingdom</td>\n",
       "      <td>2010</td>\n",
       "      <td>12</td>\n",
       "      <td>22.00</td>\n",
       "    </tr>\n",
       "    <tr>\n",
       "      <th>536365</th>\n",
       "      <td>84029G</td>\n",
       "      <td>KNITTED UNION FLAG HOT WATER BOTTLE</td>\n",
       "      <td>6</td>\n",
       "      <td>2010-12-01 08:26:00</td>\n",
       "      <td>3.39</td>\n",
       "      <td>17850.0</td>\n",
       "      <td>United Kingdom</td>\n",
       "      <td>2010</td>\n",
       "      <td>12</td>\n",
       "      <td>20.34</td>\n",
       "    </tr>\n",
       "    <tr>\n",
       "      <th>536365</th>\n",
       "      <td>84029E</td>\n",
       "      <td>RED WOOLLY HOTTIE WHITE HEART.</td>\n",
       "      <td>6</td>\n",
       "      <td>2010-12-01 08:26:00</td>\n",
       "      <td>3.39</td>\n",
       "      <td>17850.0</td>\n",
       "      <td>United Kingdom</td>\n",
       "      <td>2010</td>\n",
       "      <td>12</td>\n",
       "      <td>20.34</td>\n",
       "    </tr>\n",
       "    <tr>\n",
       "      <th>536365</th>\n",
       "      <td>22752</td>\n",
       "      <td>SET 7 BABUSHKA NESTING BOXES</td>\n",
       "      <td>2</td>\n",
       "      <td>2010-12-01 08:26:00</td>\n",
       "      <td>7.65</td>\n",
       "      <td>17850.0</td>\n",
       "      <td>United Kingdom</td>\n",
       "      <td>2010</td>\n",
       "      <td>12</td>\n",
       "      <td>15.30</td>\n",
       "    </tr>\n",
       "    <tr>\n",
       "      <th>536365</th>\n",
       "      <td>21730</td>\n",
       "      <td>GLASS STAR FROSTED T-LIGHT HOLDER</td>\n",
       "      <td>6</td>\n",
       "      <td>2010-12-01 08:26:00</td>\n",
       "      <td>4.25</td>\n",
       "      <td>17850.0</td>\n",
       "      <td>United Kingdom</td>\n",
       "      <td>2010</td>\n",
       "      <td>12</td>\n",
       "      <td>25.50</td>\n",
       "    </tr>\n",
       "    <tr>\n",
       "      <th>536366</th>\n",
       "      <td>22633</td>\n",
       "      <td>HAND WARMER UNION JACK</td>\n",
       "      <td>6</td>\n",
       "      <td>2010-12-01 08:28:00</td>\n",
       "      <td>1.85</td>\n",
       "      <td>17850.0</td>\n",
       "      <td>United Kingdom</td>\n",
       "      <td>2010</td>\n",
       "      <td>12</td>\n",
       "      <td>11.10</td>\n",
       "    </tr>\n",
       "    <tr>\n",
       "      <th>536366</th>\n",
       "      <td>22632</td>\n",
       "      <td>HAND WARMER RED POLKA DOT</td>\n",
       "      <td>6</td>\n",
       "      <td>2010-12-01 08:28:00</td>\n",
       "      <td>1.85</td>\n",
       "      <td>17850.0</td>\n",
       "      <td>United Kingdom</td>\n",
       "      <td>2010</td>\n",
       "      <td>12</td>\n",
       "      <td>11.10</td>\n",
       "    </tr>\n",
       "    <tr>\n",
       "      <th>536367</th>\n",
       "      <td>84879</td>\n",
       "      <td>ASSORTED COLOUR BIRD ORNAMENT</td>\n",
       "      <td>32</td>\n",
       "      <td>2010-12-01 08:34:00</td>\n",
       "      <td>1.69</td>\n",
       "      <td>13047.0</td>\n",
       "      <td>United Kingdom</td>\n",
       "      <td>2010</td>\n",
       "      <td>12</td>\n",
       "      <td>54.08</td>\n",
       "    </tr>\n",
       "  </tbody>\n",
       "</table>\n",
       "</div>"
      ],
      "text/plain": [
       "          StockCode                          Description  Quantity  \\\n",
       "InvoiceNo                                                            \n",
       "536365       85123A   WHITE HANGING HEART T-LIGHT HOLDER         6   \n",
       "536365        71053                  WHITE METAL LANTERN         6   \n",
       "536365       84406B       CREAM CUPID HEARTS COAT HANGER         8   \n",
       "536365       84029G  KNITTED UNION FLAG HOT WATER BOTTLE         6   \n",
       "536365       84029E       RED WOOLLY HOTTIE WHITE HEART.         6   \n",
       "536365        22752         SET 7 BABUSHKA NESTING BOXES         2   \n",
       "536365        21730    GLASS STAR FROSTED T-LIGHT HOLDER         6   \n",
       "536366        22633               HAND WARMER UNION JACK         6   \n",
       "536366        22632            HAND WARMER RED POLKA DOT         6   \n",
       "536367        84879        ASSORTED COLOUR BIRD ORNAMENT        32   \n",
       "\n",
       "                  InvoiceDate  UnitPrice CustomerID         Country  year  \\\n",
       "InvoiceNo                                                                   \n",
       "536365    2010-12-01 08:26:00       2.55    17850.0  United Kingdom  2010   \n",
       "536365    2010-12-01 08:26:00       3.39    17850.0  United Kingdom  2010   \n",
       "536365    2010-12-01 08:26:00       2.75    17850.0  United Kingdom  2010   \n",
       "536365    2010-12-01 08:26:00       3.39    17850.0  United Kingdom  2010   \n",
       "536365    2010-12-01 08:26:00       3.39    17850.0  United Kingdom  2010   \n",
       "536365    2010-12-01 08:26:00       7.65    17850.0  United Kingdom  2010   \n",
       "536365    2010-12-01 08:26:00       4.25    17850.0  United Kingdom  2010   \n",
       "536366    2010-12-01 08:28:00       1.85    17850.0  United Kingdom  2010   \n",
       "536366    2010-12-01 08:28:00       1.85    17850.0  United Kingdom  2010   \n",
       "536367    2010-12-01 08:34:00       1.69    13047.0  United Kingdom  2010   \n",
       "\n",
       "           month  Total Revenue  \n",
       "InvoiceNo                        \n",
       "536365        12          15.30  \n",
       "536365        12          20.34  \n",
       "536365        12          22.00  \n",
       "536365        12          20.34  \n",
       "536365        12          20.34  \n",
       "536365        12          15.30  \n",
       "536365        12          25.50  \n",
       "536366        12          11.10  \n",
       "536366        12          11.10  \n",
       "536367        12          54.08  "
      ]
     },
     "execution_count": 28,
     "metadata": {},
     "output_type": "execute_result"
    }
   ],
   "source": [
    "tata['Total Revenue']= tata['Quantity']*tata['UnitPrice']\n",
    "tata.head(10)\n"
   ]
  },
  {
   "cell_type": "code",
   "execution_count": 30,
   "id": "5b9c9979",
   "metadata": {},
   "outputs": [
    {
     "name": "stdout",
     "output_type": "stream",
     "text": [
      "<class 'pandas.core.frame.DataFrame'>\n",
      "Index: 406829 entries, 536365 to 581587\n",
      "Data columns (total 10 columns):\n",
      " #   Column         Non-Null Count   Dtype         \n",
      "---  ------         --------------   -----         \n",
      " 0   StockCode      406829 non-null  object        \n",
      " 1   Description    406829 non-null  object        \n",
      " 2   Quantity       406829 non-null  int64         \n",
      " 3   InvoiceDate    406829 non-null  datetime64[ns]\n",
      " 4   UnitPrice      406829 non-null  float64       \n",
      " 5   CustomerID     406829 non-null  object        \n",
      " 6   Country        406829 non-null  object        \n",
      " 7   year           406829 non-null  int64         \n",
      " 8   month          406829 non-null  int64         \n",
      " 9   Total Revenue  406829 non-null  float64       \n",
      "dtypes: datetime64[ns](1), float64(2), int64(3), object(4)\n",
      "memory usage: 34.1+ MB\n"
     ]
    }
   ],
   "source": [
    "tata.info()"
   ]
  },
  {
   "cell_type": "markdown",
   "id": "e1ac5f0e",
   "metadata": {},
   "source": [
    "### Checking for duplicates\n",
    "it's possible to have same invoice number appear as duplicates because one invoice can have different items listed in it. so we leave the invoice column."
   ]
  },
  {
   "cell_type": "code",
   "execution_count": 34,
   "id": "b2421bd9",
   "metadata": {},
   "outputs": [
    {
     "data": {
      "text/plain": [
       "InvoiceNo\n",
       "536365    False\n",
       "536365    False\n",
       "536365    False\n",
       "536365    False\n",
       "536365    False\n",
       "          ...  \n",
       "581587    False\n",
       "581587    False\n",
       "581587    False\n",
       "581587    False\n",
       "581587    False\n",
       "Length: 406829, dtype: bool"
      ]
     },
     "execution_count": 34,
     "metadata": {},
     "output_type": "execute_result"
    }
   ],
   "source": [
    "tata.duplicated(subset = None, keep = 'first')\n"
   ]
  },
  {
   "cell_type": "code",
   "execution_count": 47,
   "id": "ae3a91bb",
   "metadata": {},
   "outputs": [
    {
     "name": "stdout",
     "output_type": "stream",
     "text": [
      "<class 'pandas.core.frame.DataFrame'>\n",
      "Index: 406829 entries, 536365 to 581587\n",
      "Data columns (total 10 columns):\n",
      " #   Column         Non-Null Count   Dtype         \n",
      "---  ------         --------------   -----         \n",
      " 0   StockCode      406829 non-null  object        \n",
      " 1   Description    406829 non-null  object        \n",
      " 2   Quantity       406829 non-null  int64         \n",
      " 3   InvoiceDate    406829 non-null  datetime64[ns]\n",
      " 4   UnitPrice      406829 non-null  float64       \n",
      " 5   CustomerID     406829 non-null  object        \n",
      " 6   Country        406829 non-null  object        \n",
      " 7   year           406829 non-null  int64         \n",
      " 8   month          406829 non-null  int64         \n",
      " 9   Total Revenue  406829 non-null  float64       \n",
      "dtypes: datetime64[ns](1), float64(2), int64(3), object(4)\n",
      "memory usage: 50.3+ MB\n"
     ]
    }
   ],
   "source": [
    "tata.info()"
   ]
  },
  {
   "cell_type": "markdown",
   "id": "e43f1abe",
   "metadata": {},
   "source": [
    "### Removing values in UnitPrice, Quantity and Total Revenue that has zero  values"
   ]
  },
  {
   "cell_type": "code",
   "execution_count": 48,
   "id": "239a8c14",
   "metadata": {},
   "outputs": [],
   "source": [
    "tata = tata[(tata['Total Revenue'] >= 0) & (tata['UnitPrice']>=0)  & (tata['Quantity'] >=0)]\n"
   ]
  },
  {
   "cell_type": "markdown",
   "id": "d653247b",
   "metadata": {},
   "source": [
    "### Convert year and month to string"
   ]
  },
  {
   "cell_type": "code",
   "execution_count": 57,
   "id": "74270b61",
   "metadata": {
    "scrolled": true
   },
   "outputs": [],
   "source": [
    " pd.set_option('mode.chained_assignment', None)"
   ]
  },
  {
   "cell_type": "code",
   "execution_count": 58,
   "id": "883be361",
   "metadata": {},
   "outputs": [],
   "source": [
    "tata['year'] = tata['year'].astype(str)"
   ]
  },
  {
   "cell_type": "code",
   "execution_count": 59,
   "id": "822cfeca",
   "metadata": {},
   "outputs": [],
   "source": [
    "tata['month'] = tata['month'].astype(str)"
   ]
  },
  {
   "cell_type": "code",
   "execution_count": 61,
   "id": "c57c1da8",
   "metadata": {
    "scrolled": true
   },
   "outputs": [
    {
     "data": {
      "text/html": [
       "<div>\n",
       "<style scoped>\n",
       "    .dataframe tbody tr th:only-of-type {\n",
       "        vertical-align: middle;\n",
       "    }\n",
       "\n",
       "    .dataframe tbody tr th {\n",
       "        vertical-align: top;\n",
       "    }\n",
       "\n",
       "    .dataframe thead th {\n",
       "        text-align: right;\n",
       "    }\n",
       "</style>\n",
       "<table border=\"1\" class=\"dataframe\">\n",
       "  <thead>\n",
       "    <tr style=\"text-align: right;\">\n",
       "      <th></th>\n",
       "      <th>StockCode</th>\n",
       "      <th>Description</th>\n",
       "      <th>Quantity</th>\n",
       "      <th>InvoiceDate</th>\n",
       "      <th>UnitPrice</th>\n",
       "      <th>CustomerID</th>\n",
       "      <th>Country</th>\n",
       "      <th>year</th>\n",
       "      <th>month</th>\n",
       "      <th>Total Revenue</th>\n",
       "    </tr>\n",
       "    <tr>\n",
       "      <th>InvoiceNo</th>\n",
       "      <th></th>\n",
       "      <th></th>\n",
       "      <th></th>\n",
       "      <th></th>\n",
       "      <th></th>\n",
       "      <th></th>\n",
       "      <th></th>\n",
       "      <th></th>\n",
       "      <th></th>\n",
       "      <th></th>\n",
       "    </tr>\n",
       "  </thead>\n",
       "  <tbody>\n",
       "    <tr>\n",
       "      <th>536365</th>\n",
       "      <td>85123A</td>\n",
       "      <td>WHITE HANGING HEART T-LIGHT HOLDER</td>\n",
       "      <td>6</td>\n",
       "      <td>2010-12-01 08:26:00</td>\n",
       "      <td>2.55</td>\n",
       "      <td>17850.0</td>\n",
       "      <td>United Kingdom</td>\n",
       "      <td>2010</td>\n",
       "      <td>12</td>\n",
       "      <td>15.30</td>\n",
       "    </tr>\n",
       "    <tr>\n",
       "      <th>536365</th>\n",
       "      <td>71053</td>\n",
       "      <td>WHITE METAL LANTERN</td>\n",
       "      <td>6</td>\n",
       "      <td>2010-12-01 08:26:00</td>\n",
       "      <td>3.39</td>\n",
       "      <td>17850.0</td>\n",
       "      <td>United Kingdom</td>\n",
       "      <td>2010</td>\n",
       "      <td>12</td>\n",
       "      <td>20.34</td>\n",
       "    </tr>\n",
       "    <tr>\n",
       "      <th>536365</th>\n",
       "      <td>84406B</td>\n",
       "      <td>CREAM CUPID HEARTS COAT HANGER</td>\n",
       "      <td>8</td>\n",
       "      <td>2010-12-01 08:26:00</td>\n",
       "      <td>2.75</td>\n",
       "      <td>17850.0</td>\n",
       "      <td>United Kingdom</td>\n",
       "      <td>2010</td>\n",
       "      <td>12</td>\n",
       "      <td>22.00</td>\n",
       "    </tr>\n",
       "    <tr>\n",
       "      <th>536365</th>\n",
       "      <td>84029G</td>\n",
       "      <td>KNITTED UNION FLAG HOT WATER BOTTLE</td>\n",
       "      <td>6</td>\n",
       "      <td>2010-12-01 08:26:00</td>\n",
       "      <td>3.39</td>\n",
       "      <td>17850.0</td>\n",
       "      <td>United Kingdom</td>\n",
       "      <td>2010</td>\n",
       "      <td>12</td>\n",
       "      <td>20.34</td>\n",
       "    </tr>\n",
       "    <tr>\n",
       "      <th>536365</th>\n",
       "      <td>84029E</td>\n",
       "      <td>RED WOOLLY HOTTIE WHITE HEART.</td>\n",
       "      <td>6</td>\n",
       "      <td>2010-12-01 08:26:00</td>\n",
       "      <td>3.39</td>\n",
       "      <td>17850.0</td>\n",
       "      <td>United Kingdom</td>\n",
       "      <td>2010</td>\n",
       "      <td>12</td>\n",
       "      <td>20.34</td>\n",
       "    </tr>\n",
       "  </tbody>\n",
       "</table>\n",
       "</div>"
      ],
      "text/plain": [
       "          StockCode                          Description  Quantity  \\\n",
       "InvoiceNo                                                            \n",
       "536365       85123A   WHITE HANGING HEART T-LIGHT HOLDER         6   \n",
       "536365        71053                  WHITE METAL LANTERN         6   \n",
       "536365       84406B       CREAM CUPID HEARTS COAT HANGER         8   \n",
       "536365       84029G  KNITTED UNION FLAG HOT WATER BOTTLE         6   \n",
       "536365       84029E       RED WOOLLY HOTTIE WHITE HEART.         6   \n",
       "\n",
       "                  InvoiceDate  UnitPrice CustomerID         Country  year  \\\n",
       "InvoiceNo                                                                   \n",
       "536365    2010-12-01 08:26:00       2.55    17850.0  United Kingdom  2010   \n",
       "536365    2010-12-01 08:26:00       3.39    17850.0  United Kingdom  2010   \n",
       "536365    2010-12-01 08:26:00       2.75    17850.0  United Kingdom  2010   \n",
       "536365    2010-12-01 08:26:00       3.39    17850.0  United Kingdom  2010   \n",
       "536365    2010-12-01 08:26:00       3.39    17850.0  United Kingdom  2010   \n",
       "\n",
       "          month  Total Revenue  \n",
       "InvoiceNo                       \n",
       "536365       12          15.30  \n",
       "536365       12          20.34  \n",
       "536365       12          22.00  \n",
       "536365       12          20.34  \n",
       "536365       12          20.34  "
      ]
     },
     "execution_count": 61,
     "metadata": {},
     "output_type": "execute_result"
    }
   ],
   "source": [
    "tata.head()"
   ]
  },
  {
   "cell_type": "markdown",
   "id": "cb0e6f0e",
   "metadata": {},
   "source": [
    "### Write file to csv"
   ]
  },
  {
   "cell_type": "code",
   "execution_count": 66,
   "id": "2f8072c4",
   "metadata": {},
   "outputs": [],
   "source": [
    "tata.to_csv('tata_cleaned.csv')"
   ]
  }
 ],
 "metadata": {
  "kernelspec": {
   "display_name": "Python 3 (ipykernel)",
   "language": "python",
   "name": "python3"
  },
  "language_info": {
   "codemirror_mode": {
    "name": "ipython",
    "version": 3
   },
   "file_extension": ".py",
   "mimetype": "text/x-python",
   "name": "python",
   "nbconvert_exporter": "python",
   "pygments_lexer": "ipython3",
   "version": "3.9.13"
  }
 },
 "nbformat": 4,
 "nbformat_minor": 5
}
